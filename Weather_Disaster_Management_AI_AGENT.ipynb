{
 "cells": [
  {
   "cell_type": "markdown",
   "metadata": {
    "id": "WJ1BGvqnPsY8"
   },
   "source": [
    "# **Agent Graph Architecture Overview**\n",
    "\n",
    "\n",
    "This notebook walks you through the development of two uniquely structured agent graphs, each optimized for different use cases:\n",
    "\n",
    "## **Live Weather Emergency Agent Graph:**\n",
    "Built to handle real-time weather feeds, this graph enables the system to generate timely, actionable insights during ongoing natural disasters or severe weather conditions.\n",
    "\n",
    "\n",
    "## **Hybrid Simulation Agent Graph:**\n",
    "Designed for testing and stress-analysis, this graph merges simulated high-severity weather inputs with mock social signals and real-time data. It allows safe experimentation with extreme scenarios—without relying solely on real-world occurrences."
   ]
  },
  {
   "cell_type": "markdown",
   "metadata": {
    "id": "5S70-uKqogtr"
   },
   "source": [
    "## **Live Weather Emergency Agent Graph:(Automated Weather Emergency):**\n",
    "\n",
    "## **Overview**\n",
    "This project showcases the development of an automated Weather Emergency Response System powered by LangGraph. The system continuously monitors weather patterns, evaluates potential disaster scenarios, and formulates emergency response strategies. By integrating real-time meteorological data with generative AI, it enables intelligent disaster assessment and dynamic response generation."
   ]
  },
  {
   "cell_type": "markdown",
   "metadata": {
    "id": "vzwKQYdfZal9"
   },
   "source": [
    "##  **1. Installation of Required Packages**\n",
    "\n"
   ]
  },
  {
   "cell_type": "code",
   "execution_count": 1,
   "metadata": {
    "id": "SmRTeZAuYW6H"
   },
   "outputs": [],
   "source": [
    "%%capture --no-stderr\n",
    "%pip install -U langgraph langsmith langchain langchain_google_genai langchain_community schedule"
   ]
  },
  {
   "cell_type": "markdown",
   "metadata": {
    "id": "-rFHgeYTZwSb"
   },
   "source": [
    "## **2. Call Credentials and Set API Keys:**\n",
    "\n",
    "\n"
   ]
  },
  {
   "cell_type": "code",
   "execution_count": 2,
   "metadata": {
    "id": "2J4WpV7NTwVd"
   },
   "outputs": [],
   "source": [
    "import os\n",
    "from dotenv import load_dotenv\n",
    "\n",
    "# Load environment variables from the .env file\n",
    "load_dotenv()\n",
    "\n",
    "# Read the API keys from environment variables\n",
    "google_api_key = os.getenv(\"GOOGLE_API_KEY\")\n",
    "API_KEY = os.getenv(\"W_API_KEY\")"
   ]
  },
  {
   "cell_type": "markdown",
   "metadata": {
    "id": "pzI0_m4g5i_p"
   },
   "source": [
    "## **3. Standard Library Imports**"
   ]
  },
  {
   "cell_type": "code",
   "execution_count": 3,
   "metadata": {
    "id": "T42-B-gB5DBp"
   },
   "outputs": [],
   "source": [
    "import os\n",
    "import random\n",
    "import requests\n",
    "import schedule\n",
    "import time\n",
    "from typing import Dict, TypedDict, Union, List, Literal\n",
    "import json\n",
    "from datetime import datetime\n",
    "from langgraph.graph import StateGraph, END\n",
    "from langchain_core.prompts import ChatPromptTemplate\n",
    "from langchain_google_genai import ChatGoogleGenerativeAI\n",
    "from langchain_core.messages import AIMessage, HumanMessage, SystemMessage\n",
    "import smtplib\n",
    "from email.mime.text import MIMEText\n",
    "from email.mime.multipart import MIMEMultipart"
   ]
  },
  {
   "cell_type": "markdown",
   "metadata": {
    "id": "kL86t_VOdUN2"
   },
   "source": [
    "## **4. Defining an LLM and a State Class**"
   ]
  },
  {
   "cell_type": "code",
   "execution_count": 4,
   "metadata": {
    "id": "rnb_6X6KdJg6"
   },
   "outputs": [],
   "source": [
    "from langchain_google_genai import ChatGoogleGenerativeAI\n",
    "\n",
    "llm = ChatGoogleGenerativeAI(\n",
    "    model=\"gemini-1.5-flash\",\n",
    "    google_api_key=google_api_key  \n",
    ")\n",
    "\n",
    "class WeatherState(TypedDict):\n",
    "    city: str\n",
    "    weather_data: Dict\n",
    "    disaster_type: str\n",
    "    severity: str\n",
    "    response: str\n",
    "    messages: List[Union[SystemMessage, HumanMessage, AIMessage]]\n",
    "    alerts: List[str]\n",
    "    human_approved: bool"
   ]
  },
  {
   "cell_type": "markdown",
   "metadata": {
    "id": "QFU20kq3dzWi"
   },
   "source": [
    "## **5. Define Node Functions**\n",
    "\n"
   ]
  },
  {
   "cell_type": "markdown",
   "metadata": {
    "id": "hIiamDYhXEAx"
   },
   "source": [
    "#### **(a) Fetching Weather Data**"
   ]
  },
  {
   "cell_type": "code",
   "execution_count": 5,
   "metadata": {},
   "outputs": [],
   "source": [
    "def get_weather_data(state: WeatherState) -> Dict:\n",
    "    \"\"\"Fetch weather data from OpenWeatherMap API\"\"\"\n",
    "    BASE_URL = \"http://api.openweathermap.org/data/2.5/weather\"\n",
    "    request_url = f\"{BASE_URL}?q={state['city']}&appid={API_KEY}&units=metric\"\n",
    "    try:\n",
    "        response = requests.get(request_url)\n",
    "        response.raise_for_status()\n",
    "\n",
    "        data = response.json()\n",
    "        weather_data = {\n",
    "            \"weather\": data.get('weather', [{}])[0].get(\"description\", \"N/A\"),\n",
    "            \"wind_speed\": data.get(\"wind\", {}).get(\"speed\", \"N/A\"),\n",
    "            \"cloud_cover\": data.get(\"clouds\", {}).get(\"all\", \"N/A\"),\n",
    "            \"sea_level\": data.get(\"main\", {}).get(\"sea_level\", \"N/A\"),\n",
    "            \"temperature\": data.get(\"main\", {}).get(\"temp\", \"N/A\"),\n",
    "            \"humidity\": data.get(\"main\", {}).get(\"humidity\", \"N/A\"),\n",
    "            \"pressure\": data.get(\"main\", {}).get(\"pressure\", \"N/A\")\n",
    "        }\n",
    "\n",
    "        message = SystemMessage(content=f\"Weather data fetched successfully for {state['city']}\")  \n",
    "        return {\n",
    "            **state,\n",
    "            \"weather_data\": weather_data,\n",
    "            \"messages\": state[\"messages\"] + [message]\n",
    "        }\n",
    "\n",
    "    except Exception as e:\n",
    "        message = SystemMessage(content=f\"Failed to fetch weather data for {state['city']}: {str(e)}\")  \n",
    "        error_data = {\n",
    "            \"weather\": \"N/A\",\n",
    "            \"wind_speed\": \"N/A\",\n",
    "            \"cloud_cover\": \"N/A\",\n",
    "            \"sea_level\": \"N/A\",\n",
    "            \"temperature\": \"N/A\",\n",
    "            \"humidity\": \"N/A\",\n",
    "            \"pressure\": \"N/A\"\n",
    "        }\n",
    "        return {\n",
    "            **state,\n",
    "            \"weather_data\": error_data,\n",
    "            \"messages\": state[\"messages\"] + [message]\n",
    "        }\n"
   ]
  },
  {
   "cell_type": "markdown",
   "metadata": {
    "id": "EpGvL7olZyXA"
   },
   "source": [
    "#### **(b) Disaster Type Analysis**"
   ]
  },
  {
   "cell_type": "code",
   "execution_count": 6,
   "metadata": {},
   "outputs": [],
   "source": [
    "def analyze_disaster_type(state: WeatherState) -> WeatherState:\n",
    "    \"\"\"Analyze weather data to identify potential disasters\"\"\"\n",
    "    weather_data = state[\"weather_data\"]\n",
    "    prompt = ChatPromptTemplate.from_template(\n",
    "        \"Based on the following weather conditions, identify if there's a potential weather disaster.\\n\"\n",
    "        \"Weather conditions:\\n\"\n",
    "        \"- Description: {weather}\\n\"\n",
    "        \"- Wind Speed: {wind_speed} m/s\\n\"\n",
    "        \"- Temperature: {temperature}°C\\n\"\n",
    "        \"- Humidity: {humidity}%\\n\"\n",
    "        \"- Pressure: {pressure} hPa\\n\"\n",
    "        \"Categorize into one of these types: Hurricane, Flood, Heatwave, Severe Storm, Winter Storm, or No Immediate Threat\"\n",
    "    )\n",
    "\n",
    "    try:\n",
    "        chain = prompt | llm\n",
    "        print(\"Invoking LLM with weather data:\")\n",
    "        for k, v in weather_data.items():\n",
    "            print(f\"  - {k}: {v}\")\n",
    "\n",
    "        result = chain.invoke(weather_data)\n",
    "        disaster_type = result.content.strip()\n",
    "        print(f\"Disaster type response: {disaster_type}\")\n",
    "\n",
    "        message = SystemMessage(content=f\"Disaster type identified: {disaster_type}\")\n",
    "        # for msg in state[\"messages\"] + [message]:\n",
    "        #     print(\"Messages:\", msg.content)\n",
    "\n",
    "        return {\n",
    "            **state,\n",
    "            \"disaster_type\": disaster_type,\n",
    "            \"messages\": state[\"messages\"] + [message]\n",
    "        }\n",
    "    except Exception as e:\n",
    "        message = SystemMessage(content=f\"Failed to analyze disaster type: {str(e)}\")\n",
    "        print(f\"Failed to analyze disaster type: {str(e)}\")\n",
    "        # for msg in state[\"messages\"] + [message]:\n",
    "        #     print(\"Messages:\", msg.content)\n",
    "\n",
    "        return {\n",
    "            **state,\n",
    "            \"disaster_type\": \"Analysis Failed\",\n",
    "            \"messages\": state[\"messages\"] + [message]\n",
    "        }\n"
   ]
  },
  {
   "cell_type": "markdown",
   "metadata": {
    "id": "f6sgbAZ6aSe6"
   },
   "source": [
    "#### **(c) Severity Assessment**"
   ]
  },
  {
   "cell_type": "code",
   "execution_count": 7,
   "metadata": {
    "id": "Z6sIGopcaZpw"
   },
   "outputs": [],
   "source": [
    "def assess_severity(state: WeatherState) -> WeatherState:\n",
    "    \"\"\"Assess the severity of the identified weather situation\"\"\"\n",
    "    weather_data = state[\"weather_data\"]\n",
    "    prompt = ChatPromptTemplate.from_template(\n",
    "        \"Given the weather conditions and identified disaster type '{disaster_type}', \"\n",
    "        \"assess the severity level. Consider:\\n\"\n",
    "        \"- Weather: {weather}\\n\"\n",
    "        \"- Wind Speed: {wind_speed} m/s\\n\"\n",
    "        \"- Temperature: {temperature}°C\\n\"\n",
    "        \"Respond with either 'Critical', 'High', 'Medium', or 'Low'\"\n",
    "    )\n",
    "\n",
    "    try:\n",
    "        chain = prompt | llm\n",
    "        severity = chain.invoke({\n",
    "            **weather_data,\n",
    "            \"disaster_type\": state[\"disaster_type\"]\n",
    "        }).content\n",
    "\n",
    "        return {\n",
    "            **state,\n",
    "            \"severity\": severity,\n",
    "            \"messages\": state[\"messages\"] + [SystemMessage(content=f\"Severity assessed as: {severity}\")]\n",
    "        }\n",
    "    except Exception as e:\n",
    "        return {\n",
    "            **state,\n",
    "            \"severity\": \"Assessment Failed\",\n",
    "            \"messages\": state[\"messages\"] + [SystemMessage(content=f\"Failed to assess severity: {str(e)}\")]\n",
    "        }"
   ]
  },
  {
   "cell_type": "markdown",
   "metadata": {
    "id": "lwfzAw1ta5q4"
   },
   "source": [
    "#### **(d) Emergency Response Plan**"
   ]
  },
  {
   "cell_type": "code",
   "execution_count": 8,
   "metadata": {
    "id": "FoAW13uoaz29"
   },
   "outputs": [],
   "source": [
    "from datetime import datetime\n",
    "current_date = datetime.now().strftime(\"%B %d, %Y\")\n",
    "def emergency_response(state: WeatherState) -> WeatherState:\n",
    "    \"\"\"Generate emergency response plan\"\"\"\n",
    "    prompt = ChatPromptTemplate.from_template(\n",
    "        \"Create an emergency response plan for a {disaster_type} situation \"\n",
    "        \"with {severity} severity level in {city}. Include immediate actions needed.\"\n",
    "    )\n",
    "    try:\n",
    "        chain = prompt | llm\n",
    "        response = chain.invoke({\n",
    "            \"disaster_type\": state[\"disaster_type\"],\n",
    "            \"severity\": state[\"severity\"],\n",
    "            \"city\": state[\"city\"], \n",
    "            \"date\": current_date\n",
    "        }).content\n",
    "\n",
    "        return {\n",
    "            **state,\n",
    "            \"response\": response,\n",
    "            \"messages\": state[\"messages\"] + [SystemMessage(content=\"Emergency response plan generated\")]\n",
    "        }\n",
    "    except Exception as e:\n",
    "        return {\n",
    "            **state,\n",
    "            \"response\": \"Failed to generate response plan\",\n",
    "            \"messages\": state[\"messages\"] + [SystemMessage(content=f\"Failed to generate emergency response: {str(e)}\")]\n",
    "        }"
   ]
  },
  {
   "cell_type": "markdown",
   "metadata": {
    "id": "84NXCxV7dk84"
   },
   "source": [
    "#### **(e) Civil Defense Response**"
   ]
  },
  {
   "cell_type": "code",
   "execution_count": 9,
   "metadata": {
    "id": "vNfzTQ76b1NL"
   },
   "outputs": [],
   "source": [
    "\n",
    "def civil_defense_response(state: WeatherState) -> WeatherState:\n",
    "    \"\"\"Generate civil defense response plan\"\"\"\n",
    "    prompt = ChatPromptTemplate.from_template(\n",
    "        \"Create a civil defense response plan for a {disaster_type} situation \"\n",
    "        \"with {severity} severity level in {city}. Focus on public safety measures.\"\n",
    "    )\n",
    "    try:\n",
    "        chain = prompt | llm\n",
    "        response = chain.invoke({\n",
    "            \"disaster_type\": state[\"disaster_type\"],\n",
    "            \"severity\": state[\"severity\"],\n",
    "            \"city\": state[\"city\"], \n",
    "            \"date\": current_date\n",
    "        }).content\n",
    "\n",
    "        return {\n",
    "            **state,\n",
    "            \"response\": response,\n",
    "            \"messages\": state[\"messages\"] + [SystemMessage(content=\"Civil defense response plan generated\")]\n",
    "        }\n",
    "    except Exception as e:\n",
    "        return {\n",
    "            **state,\n",
    "            \"response\": \"Failed to generate response plan\",\n",
    "            \"messages\": state[\"messages\"] + [SystemMessage(content=f\"Failed to generate civil defense response: {str(e)}\")]\n",
    "        }"
   ]
  },
  {
   "cell_type": "markdown",
   "metadata": {
    "id": "Fz4DIIMUdxqr"
   },
   "source": [
    "#### **(f) Public Works Response**"
   ]
  },
  {
   "cell_type": "code",
   "execution_count": 10,
   "metadata": {
    "id": "ot7W2Mwndu6L"
   },
   "outputs": [],
   "source": [
    "def public_works_response(state: WeatherState) -> WeatherState:\n",
    "    \"\"\"Generate public works response plan\"\"\"\n",
    "    prompt = ChatPromptTemplate.from_template(\n",
    "        \"Create a public works response plan for a {disaster_type} situation \"\n",
    "        \"with {severity} severity level in {city}. Focus on infrastructure protection.\"\n",
    "    )\n",
    "    try:\n",
    "        chain = prompt | llm\n",
    "        response = chain.invoke({\n",
    "            \"disaster_type\": state[\"disaster_type\"],\n",
    "            \"severity\": state[\"severity\"],\n",
    "            \"city\": state[\"city\"], \n",
    "            \"date\": current_date\n",
    "        }).content\n",
    "\n",
    "        return {\n",
    "            **state,\n",
    "            \"response\": response,\n",
    "            \"messages\": state[\"messages\"] + [SystemMessage(content=\"Public works response plan generated\")]\n",
    "        }\n",
    "    except Exception as e:\n",
    "        return {\n",
    "            **state,\n",
    "            \"response\": \"Failed to generate response plan\",\n",
    "            \"messages\": state[\"messages\"] + [SystemMessage(content=f\"Failed to generate public works response: {str(e)}\")]\n",
    "        }"
   ]
  },
  {
   "cell_type": "markdown",
   "metadata": {
    "id": "X3x5mZ_Tfvgv"
   },
   "source": [
    "#### **(g) Data Logging**"
   ]
  },
  {
   "cell_type": "code",
   "execution_count": 11,
   "metadata": {
    "id": "B2eKIeIMft32"
   },
   "outputs": [],
   "source": [
    "def data_logging(state: WeatherState) -> WeatherState:\n",
    "    \"\"\"Log weather data, disaster analysis, and response to a file.\"\"\"\n",
    "    log_data = {\n",
    "        \"timestamp\": datetime.now().strftime(\"%Y-%m-%d %H:%M:%S\"),\n",
    "        \"city\": state[\"city\"],\n",
    "        \"weather_data\": state[\"weather_data\"],\n",
    "        \"disaster_type\": state[\"disaster_type\"],\n",
    "        \"severity\": state[\"severity\"],\n",
    "        \"response\": state[\"response\"],\n",
    "    }\n",
    "\n",
    "    try:\n",
    "        with open(\"disaster_log.txt\", \"a\") as log_file:\n",
    "            log_file.write(json.dumps(log_data) + \"\\n\")\n",
    "\n",
    "        return {\n",
    "            **state,\n",
    "            \"messages\": state[\"messages\"] + [SystemMessage(content=\"Data logged successfully\")]\n",
    "        }\n",
    "    except Exception as e:\n",
    "        return {\n",
    "            **state,\n",
    "            \"messages\": state[\"messages\"] + [SystemMessage(content=f\"Failed to log data: {str(e)}\")]\n",
    "        }"
   ]
  },
  {
   "cell_type": "markdown",
   "metadata": {
    "id": "cIEsl3EQgQEw"
   },
   "source": [
    "#### **(h) Human Verification**"
   ]
  },
  {
   "cell_type": "code",
   "execution_count": 12,
   "metadata": {
    "id": "VQTTaCA8gR5s"
   },
   "outputs": [],
   "source": [
    "def get_human_verification(state: WeatherState) -> WeatherState:\n",
    "    \"\"\"Get human verification for low/medium severity alerts\"\"\"\n",
    "    severity = state[\"severity\"].strip().lower()\n",
    "\n",
    "    if severity in [\"low\", \"medium\"]:\n",
    "        print(\"\\n\" + \"=\"*50)\n",
    "        print(f\"Low/Medium severity alert for {state['city']} requires human approval:\")\n",
    "        print(f\"Disaster Type: {state['disaster_type']}\")\n",
    "        print(f\"Current Weather: {state['weather_data']['weather']}\")\n",
    "        print(f\"Temperature: {state['weather_data']['temperature']}°C\")\n",
    "        print(f\"Wind Speed: {state['weather_data']['wind_speed']} m/s\")\n",
    "        print(f\"Severity: {state['severity']}\")\n",
    "        print(f\"Response Plan: {state['response']}\")\n",
    "        print(\"\\nType 'y' to approve sending alert or 'n' to reject (waiting for input):\")\n",
    "        print(\"=\"*50)\n",
    "\n",
    "        # Block and wait for input\n",
    "        while True:\n",
    "            try:\n",
    "                user_input = input().lower().strip()\n",
    "                if user_input in ['y', 'n']:\n",
    "                    approved = user_input == 'y'\n",
    "                    print(f\"Human verification result: {'Approved' if approved else 'Rejected'}\")\n",
    "                    break\n",
    "                else:\n",
    "                    print(\"Please enter 'y' for yes or 'n' for no:\")\n",
    "            except Exception as e:\n",
    "                print(f\"Error reading input: {str(e)}\")\n",
    "                print(\"Please try again with 'y' or 'n':\")\n",
    "\n",
    "        return {\n",
    "            **state,\n",
    "            \"human_approved\": approved,\n",
    "            \"messages\": state[\"messages\"] + [\n",
    "                SystemMessage(content=f\"Human verification: {'Approved' if approved else 'Rejected'}\")\n",
    "            ]\n",
    "        }\n",
    "    else:\n",
    "        # Auto-approve for high/critical severity\n",
    "        return {\n",
    "            **state,\n",
    "            \"human_approved\": True,\n",
    "            \"messages\": state[\"messages\"] + [\n",
    "                SystemMessage(content=f\"Auto-approved {severity} severity alert\")\n",
    "            ]\n",
    "        }"
   ]
  },
  {
   "cell_type": "markdown",
   "metadata": {
    "id": "IeF4E40NgZKy"
   },
   "source": [
    "#### **(j) Email Alert**"
   ]
  },
  {
   "cell_type": "code",
   "execution_count": 13,
   "metadata": {
    "id": "v4fZ8Pydgzmn"
   },
   "outputs": [],
   "source": [
    "def send_email_alert(state: WeatherState) -> WeatherState:\n",
    "    \"\"\"Send weather alert email\"\"\"\n",
    "    sender_email = os.getenv(\"SENDER_EMAIL\")\n",
    "    receiver_email = os.getenv(\"RECEIVER_EMAIL\")\n",
    "    password = os.getenv(\"EMAIL_PASSWORD\")\n",
    "\n",
    "    msg = MIMEMultipart()\n",
    "    msg['From'] = sender_email\n",
    "    msg['To'] = receiver_email\n",
    "    msg['Subject'] = f\"Weather Alert: {state['severity']} severity weather event in {state['city']}\"\n",
    "\n",
    "    body = format_weather_email(state)\n",
    "    msg.attach(MIMEText(body, 'plain'))\n",
    "\n",
    "    try:\n",
    "        server = smtplib.SMTP(\"smtp.gmail.com\", 587)\n",
    "        server.starttls()\n",
    "        server.login(sender_email, password)\n",
    "        text = msg.as_string()\n",
    "        server.sendmail(sender_email, receiver_email, text)\n",
    "        server.quit()\n",
    "\n",
    "        # Add confirmation message\n",
    "        severity = state[\"severity\"].strip().lower()\n",
    "        if severity in [\"low\", \"medium\"]:\n",
    "            print(f\"\\nVerification was approved by human, Email sent to {receiver_email} successfully\")\n",
    "        else:\n",
    "            print(\"\\nEmail sent successfully for high severity alert\")\n",
    "\n",
    "        return {\n",
    "            **state,\n",
    "            \"messages\": state[\"messages\"] + [SystemMessage(content=f\"Successfully sent weather alert email for {state['city']}\")],\n",
    "            \"alerts\": state[\"alerts\"] + [f\"Email alert sent: {datetime.now()}\"]\n",
    "        }\n",
    "\n",
    "    except Exception as e:\n",
    "        return {\n",
    "            **state,\n",
    "            \"messages\": state[\"messages\"] + [SystemMessage(content=f\"Failed to send email alert: {str(e)}\")]\n",
    "        }"
   ]
  },
  {
   "cell_type": "markdown",
   "metadata": {
    "id": "YVQnzaCyhZlS"
   },
   "source": [
    "####  **(k) Handling No Approval**"
   ]
  },
  {
   "cell_type": "code",
   "execution_count": 14,
   "metadata": {
    "id": "QHSd5kXegY4q"
   },
   "outputs": [],
   "source": [
    "def handle_no_approval(state: WeatherState) -> WeatherState:\n",
    "    \"\"\"Handle cases where human verification was rejected\"\"\"\n",
    "    print(\"\\nVerification was not approved by human, Email not sent\")\n",
    "\n",
    "    message = (\n",
    "        f\"Alert not sent for {state['city']} - \"\n",
    "        f\"Weather severity level '{state['severity']}' was deemed non-critical \"\n",
    "        f\"by human operator and verification was rejected.\"\n",
    "    )\n",
    "    return {\n",
    "        **state,\n",
    "        \"messages\": state[\"messages\"] + [SystemMessage(content=message)]\n",
    "    }"
   ]
  },
  {
   "cell_type": "markdown",
   "metadata": {
    "id": "wFG0GfHDiOBA"
   },
   "source": [
    "####  **(l) Routing the Response**"
   ]
  },
  {
   "cell_type": "code",
   "execution_count": 15,
   "metadata": {
    "id": "VprGtPToh0Rd"
   },
   "outputs": [],
   "source": [
    "def route_response(state: WeatherState) -> Literal[\"emergency_response\", \"send_email_alert\", \"civil_defense_response\", \"public_works_response\"]:\n",
    "    \"\"\"Route to appropriate department based on disaster type and severity\"\"\"\n",
    "    disaster = state[\"disaster_type\"].strip().lower()\n",
    "    severity = state[\"severity\"].strip().lower()\n",
    "\n",
    "    if severity in [\"critical\", \"high\"]:\n",
    "        return \"emergency_response\"\n",
    "        \"send_email_alert\"\n",
    "    elif \"flood\" in disaster or \"storm\" in disaster:\n",
    "        return \"public_works_response\"\n",
    "    else:\n",
    "        return \"civil_defense_response\""
   ]
  },
  {
   "cell_type": "markdown",
   "metadata": {
    "id": "UHzLv79njjte"
   },
   "source": [
    "**(m) Approval Verification Router**"
   ]
  },
  {
   "cell_type": "code",
   "execution_count": 16,
   "metadata": {
    "id": "rJCxT2nTiok0"
   },
   "outputs": [],
   "source": [
    "def verify_approval_router(state: WeatherState) -> Literal[\"send_email_alert\", \"handle_no_approval\"]:\n",
    "    \"\"\"Route based on human approval decision\"\"\"\n",
    "    return \"send_email_alert\" if state['human_approved'] else \"handle_no_approval\""
   ]
  },
  {
   "cell_type": "markdown",
   "metadata": {
    "id": "tKx-1D_xk5y7"
   },
   "source": [
    "#### **(n) Formatting the Weather Email**"
   ]
  },
  {
   "cell_type": "code",
   "execution_count": 17,
   "metadata": {
    "id": "zMkrp6zXeFPE"
   },
   "outputs": [],
   "source": [
    "def format_weather_email(state: WeatherState) -> str:\n",
    "    \"\"\"Format weather data and severity assessment into an email message\"\"\"\n",
    "    weather_data = state[\"weather_data\"]\n",
    "\n",
    "    email_content = f\"\"\"\n",
    "Weather Alert for {state['city']}\n",
    "\n",
    "Disaster Type: {state['disaster_type']}\n",
    "Severity Level: {state['severity']}\n",
    "\n",
    "Current Weather Conditions:\n",
    "- Weather Description: {weather_data['weather']}\n",
    "- Temperature: {weather_data['temperature']}C\n",
    "- Wind Speed: {weather_data['wind_speed']} m/s\n",
    "- Humidity: {weather_data['humidity']}%\n",
    "- Pressure: {weather_data['pressure']} hPa\n",
    "- Cloud Cover: {weather_data['cloud_cover']}%\n",
    "\n",
    "Response Plan:\n",
    "{state['response']}\n",
    "\n",
    "This is an automated weather alert generated at {datetime.now().strftime('%Y-%m-%d %H:%M:%S')}\n",
    "\"\"\"\n",
    "\n",
    "    if state['severity'].lower() in ['low', 'medium']:\n",
    "        email_content += \"\\nNote: This low/medium severity alert has been verified by a human operator.\"\n",
    "\n",
    "    return email_content"
   ]
  },
  {
   "cell_type": "markdown",
   "metadata": {
    "id": "HZ9Hq4MQe7V2"
   },
   "source": [
    "## **5. Creating and Compiling the Workflow**\n"
   ]
  },
  {
   "cell_type": "code",
   "execution_count": 18,
   "metadata": {
    "id": "HKWFC-m_fq7-"
   },
   "outputs": [],
   "source": [
    "# Create the workflow\n",
    "workflow = StateGraph(WeatherState)\n",
    "\n",
    "# Add nodes\n",
    "workflow.add_node(\"get_weather\", get_weather_data)\n",
    "workflow.add_node(\"analyze_disaster\", analyze_disaster_type)\n",
    "workflow.add_node(\"assess_severity\", assess_severity)\n",
    "workflow.add_node(\"data_logging\", data_logging)\n",
    "workflow.add_node(\"emergency_response\", emergency_response)\n",
    "workflow.add_node(\"civil_defense_response\", civil_defense_response)\n",
    "workflow.add_node(\"public_works_response\", public_works_response)\n",
    "workflow.add_node(\"get_human_verification\", get_human_verification)\n",
    "workflow.add_node(\"send_email_alert\", send_email_alert)\n",
    "workflow.add_node(\"handle_no_approval\", handle_no_approval)\n",
    "\n",
    "# Add edges\n",
    "workflow.add_edge(\"get_weather\",\"analyze_disaster\" )\n",
    "workflow.add_edge(\"analyze_disaster\", \"assess_severity\")\n",
    "workflow.add_edge(\"assess_severity\", \"data_logging\")\n",
    "workflow.add_conditional_edges(\"data_logging\", route_response)\n",
    "workflow.add_edge(\"civil_defense_response\", \"get_human_verification\")\n",
    "workflow.add_edge(\"public_works_response\", \"get_human_verification\")\n",
    "workflow.add_conditional_edges(\"get_human_verification\", verify_approval_router)\n",
    "workflow.add_edge(\"emergency_response\", \"send_email_alert\")\n",
    "workflow.add_edge(\"send_email_alert\", END)\n",
    "workflow.add_edge(\"handle_no_approval\", END)\n",
    "\n",
    "workflow.set_entry_point(\"get_weather\")\n",
    "\n",
    "# Compile the workflow\n",
    "app = workflow.compile()"
   ]
  },
  {
   "cell_type": "markdown",
   "metadata": {
    "id": "hTq-1eX3gFSZ"
   },
   "source": [
    "##  **6 Running the Weather Emergency System**"
   ]
  },
  {
   "cell_type": "markdown",
   "metadata": {
    "id": "GdR-ViRK9N7_"
   },
   "source": [
    "#### **(a) run_weather_emergency_system(city: str)**"
   ]
  },
  {
   "cell_type": "code",
   "execution_count": 19,
   "metadata": {
    "id": "OmXJLt24951M"
   },
   "outputs": [],
   "source": [
    "def run_weather_emergency_system(city: str):\n",
    "    \"\"\"Initialize and run the weather emergency system for a given city\"\"\"\n",
    "    initial_state = {\n",
    "        \"city\": city,\n",
    "        \"weather_data\": {},\n",
    "        \"disaster_type\": \"\",\n",
    "        \"severity\": \"\",\n",
    "        \"response\": \"\",\n",
    "        \"messages\": [],\n",
    "        \"alerts\": [],\n",
    "        \"social_media_reports\": [],\n",
    "        \"human_approved\": False\n",
    "    }\n",
    "\n",
    "    try:\n",
    "        result = app.invoke(initial_state)\n",
    "        print(f\"Completed weather check for {city}\")\n",
    "        return result\n",
    "    except Exception as e:\n",
    "        print(f\"Error running weather emergency system: {str(e)}\")"
   ]
  },
  {
   "cell_type": "markdown",
   "metadata": {
    "id": "xcITrsSWAA8W"
   },
   "source": [
    "#### **(b) Main Function of the Weather Emergency Response System**\n",
    "\n",
    "\n"
   ]
  },
  {
   "cell_type": "code",
   "execution_count": 20,
   "metadata": {
    "colab": {
     "base_uri": "https://localhost:8080/"
    },
    "id": "ml6las4NxgR6",
    "outputId": "9da1c8b8-e100-4953-b452-24d976c8b5e0"
   },
   "outputs": [
    {
     "name": "stdout",
     "output_type": "stream",
     "text": [
      "Weather Emergency Response System started.\n",
      "Monitoring scheduled for every minute.\n",
      "cities ['Delhi', 'Mumbai', 'Mirzapur']\n",
      "\n",
      "Starting scheduled check at 2025-04-10 15:19:49\n",
      "\n",
      "Checking weather conditions for Delhi...\n",
      "Invoking LLM with weather data:\n",
      "  - weather: overcast clouds\n",
      "  - wind_speed: 0.12\n",
      "  - cloud_cover: 100\n",
      "  - sea_level: 999\n",
      "  - temperature: 39.75\n",
      "  - humidity: 12\n",
      "  - pressure: 999\n",
      "Disaster type response: The most likely categorization is **Heatwave**.  The temperature of 39.75°C (103.55°F) is extremely high, and combined with low humidity (12%), creates conditions ripe for a heatwave and potential heat-related illnesses.  The other factors (overcast clouds, low wind, relatively normal pressure) are not indicative of other severe weather events.\n",
      "\n",
      "Email sent successfully for high severity alert\n",
      "Completed weather check for Delhi\n",
      "\n",
      "Checking weather conditions for Mumbai...\n",
      "Invoking LLM with weather data:\n",
      "  - weather: clear sky\n",
      "  - wind_speed: 6.04\n",
      "  - cloud_cover: 3\n",
      "  - sea_level: 1006\n",
      "  - temperature: 28.11\n",
      "  - humidity: 75\n",
      "  - pressure: 1006\n",
      "Disaster type response: No Immediate Threat.  The conditions described are typical fair weather conditions.\n",
      "\n",
      "==================================================\n",
      "Low/Medium severity alert for Mumbai requires human approval:\n",
      "Disaster Type: No Immediate Threat.  The conditions described are typical fair weather conditions.\n",
      "Current Weather: clear sky\n",
      "Temperature: 28.11°C\n",
      "Wind Speed: 6.04 m/s\n",
      "Severity: Low\n",
      "Response Plan: ## Mumbai Civil Defense Response Plan: No Immediate Threat - Low Severity (Fair Weather Conditions)\n",
      "\n",
      "**Incident Type:** No Immediate Threat (NIT) - Low Severity\n",
      "\n",
      "**Date:** October 26, 2023\n",
      "\n",
      "**Location:** Mumbai, India\n",
      "\n",
      "**Conditions:** Typical fair weather conditions.  No active emergencies or ongoing incidents requiring immediate response.\n",
      "\n",
      "**Severity Level:** Low\n",
      "\n",
      "**Goal:** To maintain public safety and preparedness, ensuring the city remains resilient and responsive to potential future incidents.\n",
      "\n",
      "\n",
      "**I. Situation Assessment:**\n",
      "\n",
      "* **Threat Level:** Minimal.  No immediate danger to public safety.\n",
      "* **Resource Availability:** Normal operational capacity for all relevant agencies (Police, Fire, Medical, BMC, etc.).\n",
      "* **Public Awareness:**  General public awareness of potential hazards is assumed.\n",
      "\n",
      "\n",
      "**II. Response Actions:**\n",
      "\n",
      "**A. Public Safety Measures:**\n",
      "\n",
      "1. **Routine Patrols & Surveillance:** Increased patrols by police and other security personnel in crowded areas (markets, railway stations, etc.) to maintain a visible presence and deter potential minor crimes.\n",
      "2. **Traffic Management:**  Standard traffic management procedures to ensure smooth flow of vehicular and pedestrian traffic. Focus on addressing common congestion points.\n",
      "3. **Public Awareness Campaigns:**  Reinforcement of existing public safety messages through social media, local radio, and public announcements.  Focus on:\n",
      "    * Fire safety (prevention and escape routes)\n",
      "    * Road safety (pedestrian safety, traffic rules)\n",
      "    * Water conservation\n",
      "    * Waste management\n",
      "    * First aid awareness\n",
      "4. **Emergency Services Readiness:**  Regular checks on emergency equipment and readiness of response teams (fire stations, ambulances, hospitals).  Staffing levels maintained at standard operational levels.\n",
      "5. **Community Engagement:**  Continued engagement with local communities through meetings and workshops to address specific local concerns and improve preparedness.\n",
      "6. **Infrastructure Monitoring:**  Routine checks on critical infrastructure (power grids, water supply, transportation) to identify and address minor issues before they escalate.\n",
      "7. **Vulnerable Population Support:**  Ensure continued support for vulnerable populations (elderly, disabled, homeless) through existing welfare programs.\n",
      "\n",
      "\n",
      "**B. Coordination and Communication:**\n",
      "\n",
      "1. **Inter-agency Coordination:**  Regular communication and coordination meetings between all involved agencies (BMC, Police, Fire, Medical, etc.) to share information and ensure seamless response capabilities.\n",
      "2. **Information Dissemination:**  Establishment of clear communication channels for sharing information with the public.  Designated spokespersons will provide updates as needed.\n",
      "3. **Incident Reporting:**  Standard procedures for reporting any unusual incidents or potential safety concerns.\n",
      "\n",
      "\n",
      "**III. Monitoring and Evaluation:**\n",
      "\n",
      "1. **Continuous Monitoring:**  Regular monitoring of the situation through surveillance, media reports, and public feedback.\n",
      "2. **Data Collection:**  Collection and analysis of data on public safety incidents to identify trends and improve future response plans.\n",
      "3. **Post-Incident Review:**  Occasional reviews of the response plan to identify areas for improvement and ensure its effectiveness.\n",
      "\n",
      "\n",
      "**IV. Escalation Procedures:**\n",
      "\n",
      "If the situation escalates in severity (e.g., severe weather event, major incident), the response plan will be upgraded accordingly, triggering higher levels of response and resource allocation.  A clear escalation matrix outlining trigger points and actions will be maintained separately.\n",
      "\n",
      "\n",
      "**V. Annexures:**\n",
      "\n",
      "* Contact details for all relevant agencies\n",
      "* Maps of key locations and emergency assembly points\n",
      "* Standard operating procedures for various scenarios\n",
      "\n",
      "\n",
      "This plan serves as a framework and will be adapted as needed based on specific circumstances and evolving situations. Regular training and drills will be conducted to ensure preparedness and effectiveness.\n",
      "\n",
      "Type 'y' to approve sending alert or 'n' to reject (waiting for input):\n",
      "==================================================\n"
     ]
    },
    {
     "name": "stdin",
     "output_type": "stream",
     "text": [
      " y\n"
     ]
    },
    {
     "name": "stdout",
     "output_type": "stream",
     "text": [
      "Human verification result: Approved\n",
      "\n",
      "Verification was approved by human, Email sent to iamkavitasingh08@gmail.com successfully\n",
      "Completed weather check for Mumbai\n",
      "\n",
      "Checking weather conditions for Mirzapur...\n",
      "Invoking LLM with weather data:\n",
      "  - weather: few clouds\n",
      "  - wind_speed: 4.8\n",
      "  - cloud_cover: 19\n",
      "  - sea_level: 999\n",
      "  - temperature: 41.19\n",
      "  - humidity: 13\n",
      "  - pressure: 999\n",
      "Disaster type response: Heatwave.  The extremely high temperature (41.19°C) combined with low humidity (13%) presents a significant risk of a heatwave and associated health dangers.  The other conditions are unremarkable in this context.\n",
      "\n",
      "Email sent successfully for high severity alert\n",
      "Completed weather check for Mirzapur\n",
      "\n",
      "Shutting down Weather Emergency Response System...\n"
     ]
    }
   ],
   "source": [
    "def main():\n",
    "    \"\"\"Main function to run the weather emergency system\"\"\"\n",
    "    # Set up environment variables\n",
    "    os.environ[\"SENDER_EMAIL\"] = \"ritusinghpoem@gmail.com\"  \n",
    "    os.environ[\"RECEIVER_EMAIL\"] = \"iamkavitasingh08@gmail.com\"  \n",
    "\n",
    "    def scheduled_check():\n",
    "        \"\"\"Function to perform scheduled checks for multiple cities\"\"\"\n",
    "        cities = ['Delhi', 'Mumbai', 'Mirzapur']  # Add more cities as needed\n",
    "        print(\"cities\", cities)\n",
    "        print(f\"\\nStarting scheduled check at {datetime.now().strftime('%Y-%m-%d %H:%M:%S')}\")\n",
    "\n",
    "        for city in cities:\n",
    "            try:\n",
    "                print(f\"\\nChecking weather conditions for {city}...\")\n",
    "                run_weather_emergency_system(city)\n",
    "                time.sleep(2)  # Brief pause between cities\n",
    "            except Exception as e:\n",
    "                print(f\"Error checking {city}: {str(e)}\")\n",
    "\n",
    "    # Schedule checks every hour\n",
    "    schedule.every(1).minute.do(scheduled_check)\n",
    "    print(\"Weather Emergency Response System started.\")\n",
    "    print(\"Monitoring scheduled for every minute.\")\n",
    "\n",
    "    while True:\n",
    "        try:\n",
    "            schedule.run_pending()\n",
    "            time.sleep(1)\n",
    "        except KeyboardInterrupt:\n",
    "            print(\"\\nShutting down Weather Emergency Response System...\")\n",
    "            break\n",
    "        except Exception as e:\n",
    "            print(f\"Error in main loop: {str(e)}\")\n",
    "            time.sleep(1)\n",
    "\n",
    "if __name__ == \"__main__\":\n",
    "    main()"
   ]
  },
  {
   "cell_type": "markdown",
   "metadata": {
    "id": "VHffh65-3SNJ"
   },
   "source": [
    "========================================================**Part 2** ================================================="
   ]
  },
  {
   "cell_type": "markdown",
   "metadata": {
    "id": "1lfkIgUSj6pA"
   },
   "source": [
    "## **Hybrid Simulation Agent Graph (Simulate High Severity Weather level check with dummy weather and Social Monitoring data):**"
   ]
  },
  {
   "cell_type": "markdown",
   "metadata": {
    "id": "je2r0mQ7Co1v"
   },
   "source": [
    "##  **1. Installation of Required Packages**"
   ]
  },
  {
   "cell_type": "code",
   "execution_count": 21,
   "metadata": {
    "id": "cwUlQLtCkvrY"
   },
   "outputs": [],
   "source": [
    "%%capture --no-stderr\n",
    "%pip install -U langgraph langsmith langchain langchain_google_genai langchain_community schedule"
   ]
  },
  {
   "cell_type": "markdown",
   "metadata": {
    "id": "H5_ioPYBnH53"
   },
   "source": [
    "## **2. Call Credentials and Set API Keys:**"
   ]
  },
  {
   "cell_type": "code",
   "execution_count": 22,
   "metadata": {
    "id": "aGG6H-DJlAbT"
   },
   "outputs": [],
   "source": [
    "import os\n",
    "from dotenv import load_dotenv\n",
    "\n",
    "# Load environment variables from the .env file\n",
    "load_dotenv()\n",
    "\n",
    "# Read the API keys from environment variables\n",
    "google_api_key = os.getenv(\"GOOGLE_API_KEY\")\n",
    "API_KEY = os.getenv(\"W_API_KEY\")"
   ]
  },
  {
   "cell_type": "markdown",
   "metadata": {
    "id": "9WjaBEzaC7zz"
   },
   "source": [
    "## **3. Standard Library Imports**"
   ]
  },
  {
   "cell_type": "code",
   "execution_count": 23,
   "metadata": {
    "id": "NUVOUMauDQGL"
   },
   "outputs": [],
   "source": [
    "import os\n",
    "import random\n",
    "import requests\n",
    "import schedule\n",
    "import time\n",
    "from typing import Dict, TypedDict, Union, List, Literal\n",
    "import json\n",
    "from datetime import datetime\n",
    "from langgraph.graph import StateGraph, END\n",
    "from langchain_core.prompts import ChatPromptTemplate\n",
    "from langchain_google_genai import ChatGoogleGenerativeAI\n",
    "from langchain_core.messages import AIMessage, HumanMessage, SystemMessage\n",
    "import smtplib\n",
    "from email.mime.text import MIMEText\n",
    "from email.mime.multipart import MIMEMultipart"
   ]
  },
  {
   "cell_type": "markdown",
   "metadata": {
    "id": "9DsUnpgCDm0Z"
   },
   "source": [
    "## **4. Defining an LLM and a State Class**"
   ]
  },
  {
   "cell_type": "code",
   "execution_count": 24,
   "metadata": {
    "id": "dgeqBI1jDTSK"
   },
   "outputs": [],
   "source": [
    "# # Initialize LLM\n",
    "from langchain_google_genai import ChatGoogleGenerativeAI\n",
    "\n",
    "llm = ChatGoogleGenerativeAI(\n",
    "    model=\"gemini-1.5-flash\",\n",
    "    google_api_key=google_api_key  \n",
    ")\n",
    "\n",
    "class WeatherState(TypedDict):\n",
    "    city: str\n",
    "    weather_data: Dict\n",
    "    disaster_type: str\n",
    "    severity: str\n",
    "    response: str\n",
    "    messages: List[Union[SystemMessage, HumanMessage, AIMessage]]\n",
    "    alerts: List[str]\n",
    "    social_media_reports: List[str]\n",
    "    human_approved: bool"
   ]
  },
  {
   "cell_type": "markdown",
   "metadata": {
    "id": "gIZCvyTtDpQ3"
   },
   "source": [
    "## **5. Define Node Functions**"
   ]
  },
  {
   "cell_type": "markdown",
   "metadata": {
    "id": "mKXMfUWaEG4p"
   },
   "source": [
    "#### **(a) Fetching Weather Data**"
   ]
  },
  {
   "cell_type": "code",
   "execution_count": 25,
   "metadata": {
    "id": "lq-6W6u2DrSh"
   },
   "outputs": [],
   "source": [
    "def get_weather_data(state: WeatherState) -> Dict:\n",
    "    \"\"\"Fetch weather data from OpenWeatherMap API or use simulated data in test mode\"\"\"\n",
    "    # Check if we're in test mode (indicated by pre-populated weather_data)\n",
    "    if state['weather_data']:\n",
    "        return {\n",
    "            **state,\n",
    "            \"messages\": state[\"messages\"] + [SystemMessage(content=f\"Using simulated weather data for {state['city']}\")]\n",
    "        }\n",
    "\n",
    "    BASE_URL = \"http://api.openweathermap.org/data/2.5/weather\"\n",
    "    request_url = f\"{BASE_URL}?q={state['city']}&appid={API_KEY}&units=metric\"\n",
    "    try:\n",
    "        response = requests.get(request_url)\n",
    "        response.raise_for_status()\n",
    "\n",
    "        data = response.json()\n",
    "        weather_data = {\n",
    "            \"weather\": data.get('weather', [{}])[0].get(\"description\", \"N/A\"),\n",
    "            \"wind_speed\": data.get(\"wind\", {}).get(\"speed\", \"N/A\"),\n",
    "            \"cloud_cover\": data.get(\"clouds\", {}).get(\"all\", \"N/A\"),\n",
    "            \"sea_level\": data.get(\"main\", {}).get(\"sea_level\", \"N/A\"),\n",
    "            \"temperature\": round(data.get(\"main\", {}).get(\"temp\", 273.15) - 273.15, 1),\n",
    "            \"humidity\": data.get(\"main\", {}).get(\"humidity\", \"N/A\"),\n",
    "            \"pressure\": data.get(\"main\", {}).get(\"pressure\", \"N/A\")\n",
    "        }\n",
    "\n",
    "        return {\n",
    "            **state,\n",
    "            \"weather_data\": weather_data,\n",
    "            \"messages\": state[\"messages\"] + [SystemMessage(content=f\"Weather data fetched successfully for {state['city']}\")]\n",
    "        }\n",
    "    except Exception as e:\n",
    "        error_data = {\n",
    "            \"weather\": \"N/A\",\n",
    "            \"wind_speed\": \"N/A\",\n",
    "            \"cloud_cover\": \"N/A\",\n",
    "            \"sea_level\": \"N/A\",\n",
    "            \"temperature\": \"N/A\",\n",
    "            \"humidity\": \"N/A\",\n",
    "            \"pressure\": \"N/A\"\n",
    "        }\n",
    "        return {\n",
    "            **state,\n",
    "            \"weather_data\": error_data,\n",
    "            \"messages\": state[\"messages\"] + [SystemMessage(content=f\"Failed to fetch weather data for {state['city']}: {str(e)}\")]\n",
    "        }"
   ]
  },
  {
   "cell_type": "markdown",
   "metadata": {
    "id": "6okZl-haEeyj"
   },
   "source": [
    "#### **(b) Social Media Monitoring**\n"
   ]
  },
  {
   "cell_type": "code",
   "execution_count": 26,
   "metadata": {
    "id": "N8hcwp8rEdrC"
   },
   "outputs": [],
   "source": [
    "def social_media_monitoring(state: WeatherState) -> WeatherState:\n",
    "    \"\"\"Simulate monitoring social media for additional reports of the weather event.\"\"\"\n",
    "    simulated_reports = [\n",
    "        \"Local reports of rising water levels and minor flooding.\",\n",
    "        \"High winds causing power outages in parts of the city.\",\n",
    "        \"Citizens reporting high temperatures and increased heat discomfort.\",\n",
    "        \"Social media reports indicate severe storm damage in local infrastructure.\",\n",
    "        \"Reports of traffic disruptions due to heavy rain.\",\n",
    "        \"No unusual social media reports related to the weather at this time.\"\n",
    "    ]\n",
    "\n",
    "    social_media_report = random.choice(simulated_reports)\n",
    "    return {\n",
    "        **state,\n",
    "        \"social_media_reports\": state[\"social_media_reports\"] + [social_media_report],\n",
    "        \"messages\": state[\"messages\"] + [SystemMessage(content=f\"Social media report added: {social_media_report}\")]\n",
    "    }"
   ]
  },
  {
   "cell_type": "markdown",
   "metadata": {
    "id": "XRKPz6PvE3cN"
   },
   "source": [
    "#### **(c) Analyzing Disaster Type**\n"
   ]
  },
  {
   "cell_type": "code",
   "execution_count": 27,
   "metadata": {
    "id": "FDFB1ApBE1EX"
   },
   "outputs": [],
   "source": [
    "def analyze_disaster_type(state: WeatherState) -> WeatherState:\n",
    "    \"\"\"Analyze weather data to identify potential disasters\"\"\"\n",
    "    weather_data = state[\"weather_data\"]\n",
    "    prompt = ChatPromptTemplate.from_template(\n",
    "        \"Based on the following weather conditions, identify if there's a potential weather disaster.\\n\"\n",
    "        \"Weather conditions:\\n\"\n",
    "        \"- Description: {weather}\\n\"\n",
    "        \"- Wind Speed: {wind_speed} m/s\\n\"\n",
    "        \"- Temperature: {temperature}°C\\n\"\n",
    "        \"- Humidity: {humidity}%\\n\"\n",
    "        \"- Pressure: {pressure} hPa\\n\"\n",
    "        \"Categorize into one of these types: Hurricane, Flood, Heatwave, Severe Storm, Winter Storm, or No Immediate Threat\"\n",
    "    )\n",
    "\n",
    "    try:\n",
    "        chain = prompt | llm\n",
    "        print(\"Invoking LLM with weather data:\")\n",
    "        for k, v in weather_data.items():\n",
    "            print(f\"  - {k}: {v}\")\n",
    "\n",
    "        result = chain.invoke(weather_data)\n",
    "        disaster_type = result.content.strip()\n",
    "        print(f\"Disaster type response: {disaster_type}\")\n",
    "\n",
    "        message = SystemMessage(content=f\"Disaster type identified: {disaster_type}\")\n",
    "\n",
    "        return {\n",
    "            **state,\n",
    "            \"disaster_type\": disaster_type,\n",
    "            \"messages\": state[\"messages\"] + [message]\n",
    "        }\n",
    "    except Exception as e:\n",
    "        message = SystemMessage(content=f\"Failed to analyze disaster type: {str(e)}\")\n",
    "        print(f\"Failed to analyze disaster type: {str(e)}\")\n",
    "\n",
    "        return {\n",
    "            **state,\n",
    "            \"disaster_type\": \"Analysis Failed\",\n",
    "            \"messages\": state[\"messages\"] + [message]\n",
    "        }\n"
   ]
  },
  {
   "cell_type": "markdown",
   "metadata": {
    "id": "9l2ObhKlFV-W"
   },
   "source": [
    "#### **(d) Assess Severity Level**\n"
   ]
  },
  {
   "cell_type": "code",
   "execution_count": 28,
   "metadata": {
    "id": "GEooalU_FtCF"
   },
   "outputs": [],
   "source": [
    "def assess_severity(state: WeatherState) -> WeatherState:\n",
    "    \"\"\"Assess the severity of the identified weather situation\"\"\"\n",
    "    weather_data = state[\"weather_data\"]\n",
    "    prompt = ChatPromptTemplate.from_template(\n",
    "        \"Given the weather conditions and identified disaster type '{disaster_type}', \"\n",
    "        \"assess the severity level. Consider:\\n\"\n",
    "        \"- Weather: {weather}\\n\"\n",
    "        \"- Wind Speed: {wind_speed} m/s\\n\"\n",
    "        \"- Temperature: {temperature}°C\\n\"\n",
    "        \"Respond with either 'Critical', 'High', 'Medium', or 'Low'\"\n",
    "    )\n",
    "\n",
    "    try:\n",
    "        chain = prompt | llm\n",
    "        severity = chain.invoke({\n",
    "            **weather_data,\n",
    "            \"disaster_type\": state[\"disaster_type\"]\n",
    "        }).content\n",
    "\n",
    "        return {\n",
    "            **state,\n",
    "            \"severity\": severity,\n",
    "            \"messages\": state[\"messages\"] + [SystemMessage(content=f\"Severity assessed as: {severity}\")]\n",
    "        }\n",
    "    except Exception as e:\n",
    "        return {\n",
    "            **state,\n",
    "            \"severity\": \"Assessment Failed\",\n",
    "            \"messages\": state[\"messages\"] + [SystemMessage(content=f\"Failed to assess severity: {str(e)}\")]\n",
    "        }"
   ]
  },
  {
   "cell_type": "markdown",
   "metadata": {
    "id": "2-rs0wUJFw0k"
   },
   "source": [
    "#### **(e) Emergency Response**"
   ]
  },
  {
   "cell_type": "code",
   "execution_count": 29,
   "metadata": {
    "id": "x76ca8uzF5-D"
   },
   "outputs": [],
   "source": [
    "def emergency_response(state: WeatherState) -> WeatherState:\n",
    "    \"\"\"Generate emergency response plan\"\"\"\n",
    "    prompt = ChatPromptTemplate.from_template(\n",
    "        \"Create an emergency response plan for a {disaster_type} situation \"\n",
    "        \"with {severity} severity level in {city}. Include immediate actions needed.\"\n",
    "    )\n",
    "    try:\n",
    "        chain = prompt | llm\n",
    "        response = chain.invoke({\n",
    "            \"disaster_type\": state[\"disaster_type\"],\n",
    "            \"severity\": state[\"severity\"],\n",
    "            \"city\": state[\"city\"], \n",
    "            \"date\": current_date\n",
    "            \n",
    "        }).content\n",
    "\n",
    "        return {\n",
    "            **state,\n",
    "            \"response\": response,\n",
    "            \"messages\": state[\"messages\"] + [SystemMessage(content=\"Emergency response plan generated\")]\n",
    "        }\n",
    "    except Exception as e:\n",
    "        return {\n",
    "            **state,\n",
    "            \"response\": \"Failed to generate response plan\",\n",
    "            \"messages\": state[\"messages\"] + [SystemMessage(content=f\"Failed to generate emergency response: {str(e)}\")]\n",
    "        }"
   ]
  },
  {
   "cell_type": "markdown",
   "metadata": {
    "id": "DRJQYDV3GADQ"
   },
   "source": [
    "#### **(f) Civil Defense Response**"
   ]
  },
  {
   "cell_type": "code",
   "execution_count": 30,
   "metadata": {
    "id": "NlabTAn4GBkM"
   },
   "outputs": [],
   "source": [
    "def civil_defense_response(state: WeatherState) -> WeatherState:\n",
    "    \"\"\"Generate civil defense response plan\"\"\"\n",
    "    prompt = ChatPromptTemplate.from_template(\n",
    "        \"Create a civil defense response plan for a {disaster_type} situation \"\n",
    "        \"with {severity} severity level in {city}. Focus on public safety measures.\"\n",
    "    )\n",
    "    try:\n",
    "        chain = prompt | llm\n",
    "        response = chain.invoke({\n",
    "            \"disaster_type\": state[\"disaster_type\"],\n",
    "            \"severity\": state[\"severity\"],\n",
    "            \"city\": state[\"city\"],\n",
    "            \"date\": current_date\n",
    "        }).content\n",
    "\n",
    "        return {\n",
    "            **state,\n",
    "            \"response\": response,\n",
    "            \"messages\": state[\"messages\"] + [SystemMessage(content=\"Civil defense response plan generated\")]\n",
    "        }\n",
    "    except Exception as e:\n",
    "        return {\n",
    "            **state,\n",
    "            \"response\": \"Failed to generate response plan\",\n",
    "            \"messages\": state[\"messages\"] + [SystemMessage(content=f\"Failed to generate civil defense response: {str(e)}\")]\n",
    "        }"
   ]
  },
  {
   "cell_type": "markdown",
   "metadata": {
    "id": "l7GxWKVfHgY_"
   },
   "source": [
    "#### **(g) Public Works Response**"
   ]
  },
  {
   "cell_type": "code",
   "execution_count": 31,
   "metadata": {
    "id": "odA2bBUlGXGD"
   },
   "outputs": [],
   "source": [
    "def public_works_response(state: WeatherState) -> WeatherState:\n",
    "    \"\"\"Generate public works response plan\"\"\"\n",
    "    prompt = ChatPromptTemplate.from_template(\n",
    "        \"Create a public works response plan for a {disaster_type} situation \"\n",
    "        \"with {severity} severity level in {city}. Focus on infrastructure protection.\"\n",
    "    )\n",
    "    try:\n",
    "        chain = prompt | llm\n",
    "        response = chain.invoke({\n",
    "            \"disaster_type\": state[\"disaster_type\"],\n",
    "            \"severity\": state[\"severity\"],\n",
    "            \"city\": state[\"city\"],\n",
    "            \"date\": current_date\n",
    "        }).content\n",
    "\n",
    "        return {\n",
    "            **state,\n",
    "            \"response\": response,\n",
    "            \"messages\": state[\"messages\"] + [SystemMessage(content=\"Public works response plan generated\")]\n",
    "        }\n",
    "    except Exception as e:\n",
    "        return {\n",
    "            **state,\n",
    "            \"response\": \"Failed to generate response plan\",\n",
    "            \"messages\": state[\"messages\"] + [SystemMessage(content=f\"Failed to generate public works response: {str(e)}\")]\n",
    "        }"
   ]
  },
  {
   "cell_type": "markdown",
   "metadata": {
    "id": "7CvQaQN9HqUL"
   },
   "source": [
    "#### **(h) Data Logging**"
   ]
  },
  {
   "cell_type": "code",
   "execution_count": 32,
   "metadata": {
    "id": "IrX13PHYGa7_"
   },
   "outputs": [],
   "source": [
    "def data_logging(state: WeatherState) -> WeatherState:\n",
    "    \"\"\"Log weather data, disaster analysis, and response to a file.\"\"\"\n",
    "    log_data = {\n",
    "        \"timestamp\": datetime.now().strftime(\"%Y-%m-%d %H:%M:%S\"),\n",
    "        \"city\": state[\"city\"],\n",
    "        \"weather_data\": state[\"weather_data\"],\n",
    "        \"disaster_type\": state[\"disaster_type\"],\n",
    "        \"severity\": state[\"severity\"],\n",
    "        \"response\": state[\"response\"],\n",
    "        \"social_media_reports\": state[\"social_media_reports\"]\n",
    "    }\n",
    "\n",
    "    try:\n",
    "        with open(\"disaster_log.txt\", \"a\") as log_file:\n",
    "            log_file.write(json.dumps(log_data) + \"\\n\")\n",
    "\n",
    "        return {\n",
    "            **state,\n",
    "            \"messages\": state[\"messages\"] + [SystemMessage(content=\"Data logged successfully\")]\n",
    "        }\n",
    "    except Exception as e:\n",
    "        return {\n",
    "            **state,\n",
    "            \"messages\": state[\"messages\"] + [SystemMessage(content=f\"Failed to log data: {str(e)}\")]\n",
    "        }\n"
   ]
  },
  {
   "cell_type": "markdown",
   "metadata": {
    "id": "RWAGyvPMH0K_"
   },
   "source": [
    "#### **(j) Get Human Verification**"
   ]
  },
  {
   "cell_type": "code",
   "execution_count": 33,
   "metadata": {
    "id": "DogG4nqFGep0"
   },
   "outputs": [],
   "source": [
    "def get_human_verification(state: WeatherState) -> WeatherState:\n",
    "    \"\"\"Get human verification for low/medium severity alerts\"\"\"\n",
    "    severity = state[\"severity\"].strip().lower()\n",
    "\n",
    "    if severity in [\"low\", \"medium\"]:\n",
    "        print(\"\\n\" + \"=\"*50)\n",
    "        print(f\"Low/Medium severity alert for {state['city']} requires human approval:\")\n",
    "        print(f\"Disaster Type: {state['disaster_type']}\")\n",
    "        print(f\"Current Weather: {state['weather_data']['weather']}\")\n",
    "        print(f\"Temperature: {state['weather_data']['temperature']}°C\")\n",
    "        print(f\"Wind Speed: {state['weather_data']['wind_speed']} m/s\")\n",
    "        print(f\"Severity: {state['severity']}\")\n",
    "        print(f\"Response Plan: {state['response']}\")\n",
    "        print(\"\\nType 'y' to approve sending alert or 'n' to reject (waiting for input):\")\n",
    "        print(\"=\"*50)\n",
    "\n",
    "        # Block and wait for input\n",
    "        while True:\n",
    "            try:\n",
    "                user_input = input().lower().strip()\n",
    "                if user_input in ['y', 'n']:\n",
    "                    approved = user_input == 'y'\n",
    "                    print(f\"Human verification result: {'Approved' if approved else 'Rejected'}\")\n",
    "                    break\n",
    "                else:\n",
    "                    print(\"Please enter 'y' for yes or 'n' for no:\")\n",
    "            except Exception as e:\n",
    "                print(f\"Error reading input: {str(e)}\")\n",
    "                print(\"Please try again with 'y' or 'n':\")\n",
    "\n",
    "        return {\n",
    "            **state,\n",
    "            \"human_approved\": approved,\n",
    "            \"messages\": state[\"messages\"] + [\n",
    "                SystemMessage(content=f\"Human verification: {'Approved' if approved else 'Rejected'}\")\n",
    "            ]\n",
    "        }\n",
    "    else:\n",
    "        # Auto-approve for high/critical severity\n",
    "        return {\n",
    "            **state,\n",
    "            \"human_approved\": True,\n",
    "            \"messages\": state[\"messages\"] + [\n",
    "                SystemMessage(content=f\"Auto-approved {severity} severity alert\")\n",
    "            ]\n",
    "        }"
   ]
  },
  {
   "cell_type": "markdown",
   "metadata": {
    "id": "OsCDjmttH_Dv"
   },
   "source": [
    "#### **(k) Send Email Alert**"
   ]
  },
  {
   "cell_type": "code",
   "execution_count": 34,
   "metadata": {
    "id": "1_verEl-GiBZ"
   },
   "outputs": [],
   "source": [
    "def send_email_alert(state: WeatherState) -> WeatherState:\n",
    "    \"\"\"Send weather alert email\"\"\"\n",
    "    sender_email = os.getenv(\"SENDER_EMAIL\")\n",
    "    receiver_email = os.getenv(\"RECEIVER_EMAIL\")\n",
    "    password = os.getenv(\"EMAIL_PASSWORD\")\n",
    "\n",
    "    msg = MIMEMultipart()\n",
    "    msg['From'] = sender_email\n",
    "    msg['To'] = receiver_email\n",
    "    msg['Subject'] = f\"Weather Alert: {state['severity']} severity weather event in {state['city']}\"\n",
    "\n",
    "    body = format_weather_email(state)\n",
    "    msg.attach(MIMEText(body, 'plain'))\n",
    "\n",
    "    try:\n",
    "        server = smtplib.SMTP(\"smtp.gmail.com\", 587)\n",
    "        server.starttls()\n",
    "        server.login(sender_email, password)\n",
    "        text = msg.as_string()\n",
    "        server.sendmail(sender_email, receiver_email, text)\n",
    "        server.quit()\n",
    "\n",
    "        # Add confirmation message\n",
    "        severity = state[\"severity\"].strip().lower()\n",
    "        if severity in [\"low\", \"medium\"]:\n",
    "            print(f\"\\nVerification was approved by human, Email sent to {receiver_email} successfully\")\n",
    "        else:\n",
    "            print(f\"\\nEmail sent successfully for high severity alert to {receiver_email}\")\n",
    "\n",
    "        return {\n",
    "            **state,\n",
    "            \"messages\": state[\"messages\"] + [SystemMessage(content=f\"Successfully sent weather alert email for {state['city']}\")],\n",
    "            \"alerts\": state[\"alerts\"] + [f\"Email alert sent: {datetime.now()}\"]\n",
    "        }\n",
    "\n",
    "    except Exception as e:\n",
    "        return {\n",
    "            **state,\n",
    "            \"messages\": state[\"messages\"] + [SystemMessage(content=f\"Failed to send email alert: {str(e)}\")]\n",
    "        }"
   ]
  },
  {
   "cell_type": "markdown",
   "metadata": {
    "id": "TEMKc1-sIK6t"
   },
   "source": [
    "#### **(l) Handle No Approval From Human**"
   ]
  },
  {
   "cell_type": "code",
   "execution_count": 35,
   "metadata": {
    "id": "-46w8j0DGnYl"
   },
   "outputs": [],
   "source": [
    "def handle_no_approval(state: WeatherState) -> WeatherState:\n",
    "    \"\"\"Handle cases where human verification was rejected\"\"\"\n",
    "    print(\"\\nVerification was not approved by human, Email not sent\")\n",
    "\n",
    "    message = (\n",
    "        f\"Alert not sent for {state['city']} - \"\n",
    "        f\"Weather severity level '{state['severity']}' was deemed non-critical \"\n",
    "        f\"by human operator and verification was rejected.\"\n",
    "    )\n",
    "    return {\n",
    "        **state,\n",
    "        \"messages\": state[\"messages\"] + [SystemMessage(content=message)]\n",
    "    }"
   ]
  },
  {
   "cell_type": "markdown",
   "metadata": {
    "id": "jfeU8XCeISZo"
   },
   "source": [
    "#### **(m) Route Response for Disaster Type and Severity**"
   ]
  },
  {
   "cell_type": "code",
   "execution_count": 36,
   "metadata": {
    "id": "nSvAUWCSGqyJ"
   },
   "outputs": [],
   "source": [
    "def route_response(state: WeatherState) -> Literal[\"emergency_response\", \"send_email_alert\", \"civil_defense_response\", \"public_works_response\"]:\n",
    "    \"\"\"Route to appropriate department based on disaster type and severity\"\"\"\n",
    "    disaster = state[\"disaster_type\"].strip().lower()\n",
    "    severity = state[\"severity\"].strip().lower()\n",
    "\n",
    "    if severity in [\"critical\", \"high\"]:\n",
    "        return \"emergency_response\"\n",
    "        return \"send_email_alert\"\n",
    "    elif \"flood\" in disaster or \"storm\" in disaster:\n",
    "        return \"public_works_response\"\n",
    "    else:\n",
    "        return \"civil_defense_response\""
   ]
  },
  {
   "cell_type": "markdown",
   "metadata": {
    "id": "uOZyzK3xIfGG"
   },
   "source": [
    "#### **(n) Verify Approval Route after Human Verification**"
   ]
  },
  {
   "cell_type": "code",
   "execution_count": 37,
   "metadata": {
    "id": "BoXBTvTVGtUT"
   },
   "outputs": [],
   "source": [
    "def verify_approval_router(state: WeatherState) -> Literal[\"send_email_alert\", \"handle_no_approval\"]:\n",
    "    \"\"\"Route based on human approval decision\"\"\"\n",
    "    return \"send_email_alert\" if state['human_approved'] else \"handle_no_approval\""
   ]
  },
  {
   "cell_type": "markdown",
   "metadata": {
    "id": "m3YmKcAlIwsv"
   },
   "source": [
    "#### **(p) Format Weather Email**"
   ]
  },
  {
   "cell_type": "code",
   "execution_count": 38,
   "metadata": {
    "id": "kM3i4rLEG2RC"
   },
   "outputs": [],
   "source": [
    "def format_weather_email(state: WeatherState) -> str:\n",
    "    \"\"\"Format weather data and severity assessment into an email message\"\"\"\n",
    "    weather_data = state[\"weather_data\"]\n",
    "    social_media_reports = \"\\n\".join(state[\"social_media_reports\"])\n",
    "\n",
    "    email_content = f\"\"\"\n",
    "Weather Alert for {state['city']}\n",
    "\n",
    "Disaster Type: {state['disaster_type']}\n",
    "Severity Level: {state['severity']}\n",
    "\n",
    "Current Weather Conditions:\n",
    "- Weather Description: {weather_data['weather']}\n",
    "- Temperature: {weather_data['temperature']}C\n",
    "- Wind Speed: {weather_data['wind_speed']} m/s\n",
    "- Humidity: {weather_data['humidity']}%\n",
    "- Pressure: {weather_data['pressure']} hPa\n",
    "- Cloud Cover: {weather_data['cloud_cover']}%\n",
    "\n",
    "\n",
    "Response Plan:\n",
    "{state['response']}\n",
    "\n",
    "This is an automated weather alert generated at {datetime.now().strftime('%Y-%m-%d %H:%M:%S')}\n",
    "\"\"\"\n",
    "\n",
    "    if state['severity'].lower() in ['low', 'medium']:\n",
    "        email_content += \"\\nNote: This low/medium severity alert has been verified by a human operator.\"\n",
    "\n",
    "    return email_content"
   ]
  },
  {
   "cell_type": "markdown",
   "metadata": {
    "id": "hCbmbOxgJENi"
   },
   "source": [
    "## **5. Creating and Compiling the Workflow**"
   ]
  },
  {
   "cell_type": "code",
   "execution_count": 39,
   "metadata": {
    "id": "QRgsEoF6G8V0"
   },
   "outputs": [],
   "source": [
    "# Create the workflow\n",
    "workflow = StateGraph(WeatherState)\n",
    "\n",
    "# Add nodes\n",
    "workflow.add_node(\"get_weather\", get_weather_data)\n",
    "workflow.add_node(\"social_media_monitoring\", social_media_monitoring)\n",
    "workflow.add_node(\"analyze_disaster\", analyze_disaster_type)\n",
    "workflow.add_node(\"assess_severity\", assess_severity)\n",
    "workflow.add_node(\"data_logging\", data_logging)\n",
    "workflow.add_node(\"emergency_response\", emergency_response)\n",
    "workflow.add_node(\"civil_defense_response\", civil_defense_response)\n",
    "workflow.add_node(\"public_works_response\", public_works_response)\n",
    "workflow.add_node(\"get_human_verification\", get_human_verification)\n",
    "workflow.add_node(\"send_email_alert\", send_email_alert)\n",
    "workflow.add_node(\"handle_no_approval\", handle_no_approval)\n",
    "\n",
    "# Add edges\n",
    "workflow.add_edge(\"get_weather\", \"social_media_monitoring\")\n",
    "workflow.add_edge(\"social_media_monitoring\", \"analyze_disaster\")\n",
    "workflow.add_edge(\"analyze_disaster\", \"assess_severity\")\n",
    "workflow.add_edge(\"assess_severity\", \"data_logging\")\n",
    "workflow.add_conditional_edges(\"data_logging\", route_response)\n",
    "\n",
    "workflow.add_edge(\"civil_defense_response\", \"get_human_verification\")\n",
    "workflow.add_edge(\"public_works_response\", \"get_human_verification\")\n",
    "workflow.add_conditional_edges(\"get_human_verification\", verify_approval_router)\n",
    "workflow.add_edge(\"emergency_response\", \"send_email_alert\")\n",
    "workflow.add_edge(\"send_email_alert\", END)\n",
    "workflow.add_edge(\"handle_no_approval\", END)\n",
    "\n",
    "workflow.set_entry_point(\"get_weather\")\n",
    "\n",
    "# Compile the workflow\n",
    "app = workflow.compile()"
   ]
  },
  {
   "cell_type": "markdown",
   "metadata": {
    "id": "WNF_cG6kLjh-"
   },
   "source": [
    "##  **6 Running the Weather Emergency System**"
   ]
  },
  {
   "cell_type": "markdown",
   "metadata": {
    "id": "S9qnMtXXJjXM"
   },
   "source": [
    "#### **(a) run_weather_emergency_system(city: str):**\n"
   ]
  },
  {
   "cell_type": "code",
   "execution_count": 40,
   "metadata": {
    "id": "Za7BQLJsHEdH"
   },
   "outputs": [],
   "source": [
    "def run_weather_emergency_system(city: str):\n",
    "    \"\"\"Initialize and run the weather emergency system for a given city\"\"\"\n",
    "    initial_state = {\n",
    "        \"city\": city,\n",
    "        \"weather_data\": {},\n",
    "        \"disaster_type\": \"\",\n",
    "        \"severity\": \"\",\n",
    "        \"response\": \"\",\n",
    "        \"messages\": [],\n",
    "        \"alerts\": [],\n",
    "        \"social_media_reports\": [],\n",
    "        \"human_approved\": False\n",
    "    }\n",
    "\n",
    "    try:\n",
    "        result = app.invoke(initial_state)\n",
    "        print(f\"Completed weather check for {city}\")\n",
    "        return result\n",
    "    except Exception as e:\n",
    "        print(f\"Error running weather emergency system: {str(e)}\")"
   ]
  },
  {
   "cell_type": "markdown",
   "metadata": {
    "id": "u44EspTfMDRu"
   },
   "source": [
    "#### **(b) Get Simulated Weather Data:**"
   ]
  },
  {
   "cell_type": "code",
   "execution_count": 41,
   "metadata": {
    "id": "DxE7WZjWHKr1"
   },
   "outputs": [],
   "source": [
    "def get_simulated_weather_data(scenario: str = \"high\") -> Dict:\n",
    "    \"\"\"Generate simulated weather data for testing different scenarios\"\"\"\n",
    "    scenarios = {\n",
    "        \"high\": {\n",
    "            \"weather\": \"severe thunderstorm with heavy rainfall and strong winds\",\n",
    "            \"wind_speed\": 32.5,  # Increased for high severity\n",
    "            \"cloud_cover\": 95,\n",
    "            \"sea_level\": 1015,\n",
    "            \"temperature\": 35.5,  # Higher temperature\n",
    "            \"humidity\": 90,\n",
    "            \"pressure\": 960  # Low pressure indicating severe weather\n",
    "        },\n",
    "        \"medium\": {\n",
    "            \"weather\": \"moderate rain with gusty winds\",\n",
    "            \"wind_speed\": 15.2,\n",
    "            \"cloud_cover\": 75,\n",
    "            \"sea_level\": 1012,\n",
    "            \"temperature\": 22.3,\n",
    "            \"humidity\": 70,\n",
    "            \"pressure\": 1005\n",
    "        },\n",
    "        \"low\": {\n",
    "            \"weather\": \"light drizzle\",\n",
    "            \"wind_speed\": 8.5,\n",
    "            \"cloud_cover\": 45,\n",
    "            \"sea_level\": 1013,\n",
    "            \"temperature\": 20.1,\n",
    "            \"humidity\": 60,\n",
    "            \"pressure\": 1015\n",
    "        }\n",
    "    }\n",
    "\n",
    "    return scenarios.get(scenario.lower(), scenarios[\"medium\"])\n"
   ]
  },
  {
   "cell_type": "markdown",
   "metadata": {
    "id": "OErtrjRWJRzO"
   },
   "source": [
    "#### **(c) Run Weather Emergency System Test**"
   ]
  },
  {
   "cell_type": "code",
   "execution_count": 42,
   "metadata": {
    "id": "JfDKrOFuHRKz"
   },
   "outputs": [],
   "source": [
    "def run_weather_emergency_system_test(city: str, scenario: str = \"high\"):\n",
    "    \"\"\"Test the weather emergency system with simulated data\"\"\"\n",
    "    # Pre-populate with simulated data\n",
    "    initial_state = {\n",
    "        \"city\": city,\n",
    "        \"weather_data\": get_simulated_weather_data(scenario),\n",
    "        \"disaster_type\": \"\",\n",
    "        \"severity\": \"\",\n",
    "        \"response\": \"\",\n",
    "        \"messages\": [],\n",
    "        \"alerts\": [],\n",
    "        \"social_media_reports\": [],\n",
    "        \"human_approved\": False\n",
    "    }\n",
    "\n",
    "    try:\n",
    "        result = app.invoke(initial_state)\n",
    "        print(f\"\\nCompleted test weather check for {city} with {scenario} severity scenario\")\n",
    "        return result\n",
    "    except Exception as e:\n",
    "        print(f\"Error running weather emergency system test: {str(e)}\")\n"
   ]
  },
  {
   "cell_type": "markdown",
   "metadata": {
    "id": "Ok0o3-jNMWjn"
   },
   "source": [
    "#### **(d) Run Main Function**"
   ]
  },
  {
   "cell_type": "code",
   "execution_count": 43,
   "metadata": {
    "colab": {
     "base_uri": "https://localhost:8080/"
    },
    "id": "m6H49bNWlDue",
    "outputId": "6e49b582-0a15-461e-f51e-4c0af5961d02"
   },
   "outputs": [
    {
     "name": "stdout",
     "output_type": "stream",
     "text": [
      "\n",
      "Weather Emergency Response System\n",
      "1. Run normal monitoring\n",
      "2. Run test with simulated data\n"
     ]
    },
    {
     "name": "stdin",
     "output_type": "stream",
     "text": [
      "Select mode (1 or 2):  1\n"
     ]
    },
    {
     "name": "stdout",
     "output_type": "stream",
     "text": [
      "Weather Emergency Response System started.\n",
      "Monitoring scheduled for every minute.\n",
      "cities ['Delhi', 'Mumbai', 'Mirzapur']\n",
      "\n",
      "Starting scheduled check at 2025-04-10 15:21:47\n",
      "\n",
      "Checking weather conditions for Delhi...\n",
      "Invoking LLM with weather data:\n",
      "  - weather: overcast clouds\n",
      "  - wind_speed: 0.12\n",
      "  - cloud_cover: 100\n",
      "  - sea_level: 999\n",
      "  - temperature: -233.4\n",
      "  - humidity: 12\n",
      "  - pressure: 999\n",
      "Disaster type response: The temperature of -233.4°C is far below anything possible on Earth.  This indicates an error in the data.  Therefore, the correct categorization is **No Immediate Threat** (because the given data is unrealistic).\n",
      "\n",
      "Email sent successfully for high severity alert to iamkavitasingh08@gmail.com\n",
      "Completed weather check for Delhi\n",
      "\n",
      "Checking weather conditions for Mumbai...\n",
      "Invoking LLM with weather data:\n",
      "  - weather: clear sky\n",
      "  - wind_speed: 6.04\n",
      "  - cloud_cover: 3\n",
      "  - sea_level: 1006\n",
      "  - temperature: -245.0\n",
      "  - humidity: 75\n",
      "  - pressure: 1006\n",
      "Disaster type response: No Immediate Threat.\n",
      "\n",
      "A temperature of -245.0°C is impossible on Earth.  This data is erroneous.  Even if other parameters were realistic, the temperature alone precludes any of the listed weather disasters.\n",
      "\n",
      "Email sent successfully for high severity alert to iamkavitasingh08@gmail.com\n",
      "Completed weather check for Mumbai\n",
      "\n",
      "Checking weather conditions for Mirzapur...\n",
      "Invoking LLM with weather data:\n",
      "  - weather: few clouds\n",
      "  - wind_speed: 4.8\n",
      "  - cloud_cover: 19\n",
      "  - sea_level: 999\n",
      "  - temperature: -232.0\n",
      "  - humidity: 13\n",
      "  - pressure: 999\n",
      "Disaster type response: The temperature of -232.0°C is far below the lowest possible temperature in the real world (-273.15°C, absolute zero).  This indicates an error in the provided data.  Therefore, the data is invalid and cannot be used to predict a weather disaster.  The correct categorization is **No Immediate Threat** (because the data is unusable).\n",
      "\n",
      "Email sent successfully for high severity alert to iamkavitasingh08@gmail.com\n",
      "Completed weather check for Mirzapur\n",
      "\n",
      "Starting scheduled check at 2025-04-10 15:22:47\n",
      "\n",
      "Checking weather conditions for Lucknow...\n",
      "Invoking LLM with weather data:\n",
      "  - weather: clear sky\n",
      "  - wind_speed: 1.79\n",
      "  - cloud_cover: 0\n",
      "  - sea_level: 999\n",
      "  - temperature: -232.1\n",
      "  - humidity: 12\n",
      "  - pressure: 999\n",
      "Disaster type response: No Immediate Threat.\n",
      "\n",
      "A temperature of -232.1°C is far below anything possible on Earth.  This indicates an error in the provided data.  Even if the other values were realistic, the temperature alone makes any terrestrial weather disaster impossible.\n",
      "\n",
      "Email sent successfully for high severity alert to iamkavitasingh08@gmail.com\n",
      "Completed weather check for Lucknow\n",
      "\n",
      "Shutting down Weather Emergency Response System...\n"
     ]
    }
   ],
   "source": [
    "def main():\n",
    "    \"\"\"Main function to run the weather emergency system\"\"\"\n",
    "    # Set up environment variables\n",
    "\n",
    "    os.environ[\"SENDER_EMAIL\"] = \"ritusinghpoem@gmail.com\"  \n",
    "    os.environ[\"RECEIVER_EMAIL\"] = \"iamkavitasingh08@gmail.com\"  \n",
    "\n",
    "    # Add test mode option\n",
    "    print(\"\\nWeather Emergency Response System\")\n",
    "    print(\"1. Run normal monitoring\")\n",
    "    print(\"2. Run test with simulated data\")\n",
    "    choice = input(\"Select mode (1 or 2): \")\n",
    "\n",
    "    if choice == \"2\":\n",
    "        print(\"\\nSelect test scenario:\")\n",
    "        print(\"1. High severity (no human verification needed)\")\n",
    "        print(\"2. Medium severity (requires human verification)\")\n",
    "        print(\"3. Low severity (requires human verification)\")\n",
    "\n",
    "        scenario_choice = input(\"Select scenario (1, 2, or 3): \")\n",
    "        scenario_map = {\"1\": \"high\", \"2\": \"medium\", \"3\": \"low\"}\n",
    "        scenario = scenario_map.get(scenario_choice, \"medium\")\n",
    "\n",
    "        city = input(\"\\nEnter city name for test (default: Lahore): \").strip() or \"Lahore\"\n",
    "        print(f\"\\nRunning test scenario: {scenario.upper()} severity for {city}\")\n",
    "        run_weather_emergency_system_test(city, scenario)\n",
    "    else:\n",
    "        def scheduled_check():\n",
    "            \"\"\"Function to perform scheduled checks for multiple cities\"\"\"\n",
    "            cities = ['Lucknow']  # Add more cities as needed\n",
    "            print(f\"\\nStarting scheduled check at {datetime.now().strftime('%Y-%m-%d %H:%M:%S')}\")\n",
    "\n",
    "            for city in cities:\n",
    "                try:\n",
    "                    print(f\"\\nChecking weather conditions for {city}...\")\n",
    "                    run_weather_emergency_system(city)\n",
    "                    time.sleep(2)  # Brief pause between cities\n",
    "                except Exception as e:\n",
    "                    print(f\"Error checking {city}: {str(e)}\")\n",
    "\n",
    "        # Schedule checks every minut\n",
    "        schedule.every(1).minute.do(scheduled_check)\n",
    "        print(\"Weather Emergency Response System started.\")\n",
    "        print(\"Monitoring scheduled for every minute.\")\n",
    "\n",
    "        while True:\n",
    "            try:\n",
    "                schedule.run_pending()\n",
    "                time.sleep(1)\n",
    "            except KeyboardInterrupt:\n",
    "                print(\"\\nShutting down Weather Emergency Response System...\")\n",
    "                break\n",
    "            except Exception as e:\n",
    "                print(f\"Error in main loop: {str(e)}\")\n",
    "                time.sleep(1)\n",
    "\n",
    "if __name__ == \"__main__\":\n",
    "    main()"
   ]
  },
  {
   "cell_type": "code",
   "execution_count": 44,
   "metadata": {},
   "outputs": [
    {
     "name": "stdout",
     "output_type": "stream",
     "text": [
      "\n",
      "Weather Emergency Response System\n",
      "1. Run normal monitoring\n",
      "2. Run test with simulated data\n"
     ]
    },
    {
     "name": "stdin",
     "output_type": "stream",
     "text": [
      "Select mode (1 or 2):  2\n"
     ]
    },
    {
     "name": "stdout",
     "output_type": "stream",
     "text": [
      "\n",
      "Select test scenario:\n",
      "1. High severity (no human verification needed)\n",
      "2. Medium severity (requires human verification)\n",
      "3. Low severity (requires human verification)\n"
     ]
    },
    {
     "name": "stdin",
     "output_type": "stream",
     "text": [
      "Select scenario (1, 2, or 3):  3\n",
      "\n",
      "Enter city name for test (default: Lahore):  Lucknow\n"
     ]
    },
    {
     "name": "stdout",
     "output_type": "stream",
     "text": [
      "\n",
      "Running test scenario: LOW severity for Lucknow\n",
      "Invoking LLM with weather data:\n",
      "  - weather: light drizzle\n",
      "  - wind_speed: 8.5\n",
      "  - cloud_cover: 45\n",
      "  - sea_level: 1013\n",
      "  - temperature: 20.1\n",
      "  - humidity: 60\n",
      "  - pressure: 1015\n",
      "Disaster type response: No Immediate Threat.  The conditions described are relatively mild.  Light drizzle, moderate wind, pleasant temperature, and normal pressure don't indicate any imminent severe weather event.\n",
      "\n",
      "==================================================\n",
      "Low/Medium severity alert for Lucknow requires human approval:\n",
      "Disaster Type: No Immediate Threat.  The conditions described are relatively mild.  Light drizzle, moderate wind, pleasant temperature, and normal pressure don't indicate any imminent severe weather event.\n",
      "Current Weather: light drizzle\n",
      "Temperature: 20.1°C\n",
      "Wind Speed: 8.5 m/s\n",
      "Severity: Low\n",
      "Response Plan: ## Civil Defense Response Plan: Lucknow - No Immediate Threat (NIT) Situation\n",
      "\n",
      "**Date:** October 26, 2023\n",
      "**Time:** 14:00 hrs\n",
      "**Situation:** Light drizzle, moderate wind, pleasant temperature, normal atmospheric pressure.  Severity Level: Low. No immediate threat of severe weather or other emergencies.\n",
      "\n",
      "**I.  Situation Assessment:**\n",
      "\n",
      "Current weather conditions pose no immediate threat to public safety in Lucknow.  This plan outlines proactive measures to maintain public safety and preparedness.\n",
      "\n",
      "**II.  Objectives:**\n",
      "\n",
      "* Maintain public awareness of safety guidelines.\n",
      "* Proactively address potential minor weather-related incidents.\n",
      "* Ensure readiness for escalation if conditions change.\n",
      "* Provide information to the public.\n",
      "\n",
      "**III.  Response Actions:**\n",
      "\n",
      "A. **Public Information and Awareness:**\n",
      "\n",
      "* **Dissemination of Information:**  Continue routine weather updates through existing channels (radio, television, social media, local news outlets). Emphasize the current \"No Immediate Threat\" status and advise citizens to remain aware of weather forecasts.\n",
      "* **Public Service Announcements (PSAs):**  Short PSAs reminding citizens of basic safety precautions (e.g., safe driving in light rain, caution around potential slippery surfaces) can be broadcast.\n",
      "* **Website and Social Media Updates:**  Keep official websites and social media accounts updated with current weather information and any relevant advisories.\n",
      "\n",
      "B. **Resource Monitoring and Readiness:**\n",
      "\n",
      "* **Emergency Services:** Maintain normal operational readiness for all emergency services (police, fire, ambulance).  Ensure communication systems are functioning optimally.\n",
      "* **Infrastructure Check:**  Conduct routine checks on critical infrastructure (power lines, drainage systems) to identify and address any minor issues proactively.\n",
      "* **Shelter Status:**  Confirm that designated shelters remain available and in good working order, though not currently activated.\n",
      "\n",
      "C. **Incident Management:**\n",
      "\n",
      "* **Minor Incidents:** Establish a streamlined process for reporting and responding to minor weather-related incidents (e.g., fallen tree branches, localized flooding).  Assign clear responsibilities for handling these incidents.\n",
      "* **Escalation Procedures:**  Define clear procedures for escalating the response if weather conditions deteriorate or a new threat emerges. This includes communication protocols with higher authorities.\n",
      "\n",
      "D. **Community Engagement:**\n",
      "\n",
      "* **Community Liaison:** Maintain contact with community leaders and organizations to ensure information dissemination and address any concerns.\n",
      "* **Volunteer Coordination:**  If needed, initiate procedures for mobilizing volunteer groups for minor assistance tasks (e.g., clearing debris).\n",
      "\n",
      "**IV.  Monitoring and Evaluation:**\n",
      "\n",
      "* Continuous monitoring of weather conditions using reliable sources (meteorological department).\n",
      "* Regular review of incident reports and response effectiveness.\n",
      "* Post-event assessment to identify areas for improvement in future responses.\n",
      "\n",
      "\n",
      "**V.  Communication Plan:**\n",
      "\n",
      "* **Designated Spokesperson:**  A single spokesperson will be designated to provide updates to the media and public.\n",
      "* **Communication Channels:** Utilize existing communication channels (radio, television, social media, website, press releases) for disseminating information.\n",
      "* **Emergency Alerts:**  Use emergency alert systems only if the situation escalates to a higher severity level.\n",
      "\n",
      "\n",
      "**VI.  Cancellation:**\n",
      "\n",
      "This plan will remain in effect until weather conditions change significantly or the threat level is upgraded.  A formal cancellation announcement will be issued through the established communication channels once the situation returns to normal.\n",
      "\n",
      "\n",
      "This plan is a template and should be adapted to the specific needs and resources of Lucknow's Civil Defense system.  Regular drills and training are essential to ensure effective implementation.\n",
      "\n",
      "Type 'y' to approve sending alert or 'n' to reject (waiting for input):\n",
      "==================================================\n"
     ]
    },
    {
     "name": "stdin",
     "output_type": "stream",
     "text": [
      " y\n"
     ]
    },
    {
     "name": "stdout",
     "output_type": "stream",
     "text": [
      "Human verification result: Approved\n",
      "\n",
      "Verification was approved by human, Email sent to iamkavitasingh08@gmail.com successfully\n",
      "\n",
      "Completed test weather check for Lucknow with low severity scenario\n"
     ]
    }
   ],
   "source": [
    "def main():\n",
    "    \"\"\"Main function to run the weather emergency system\"\"\"\n",
    "    # Set up environment variables\n",
    "\n",
    "    os.environ[\"SENDER_EMAIL\"] = \"ritusinghpoem@gmail.com\"  \n",
    "    os.environ[\"RECEIVER_EMAIL\"] = \"iamkavitasingh08@gmail.com\"  \n",
    "\n",
    "    # Add test mode option\n",
    "    print(\"\\nWeather Emergency Response System\")\n",
    "    print(\"1. Run normal monitoring\")\n",
    "    print(\"2. Run test with simulated data\")\n",
    "    choice = input(\"Select mode (1 or 2): \")\n",
    "\n",
    "    if choice == \"2\":\n",
    "        print(\"\\nSelect test scenario:\")\n",
    "        print(\"1. High severity (no human verification needed)\")\n",
    "        print(\"2. Medium severity (requires human verification)\")\n",
    "        print(\"3. Low severity (requires human verification)\")\n",
    "\n",
    "        scenario_choice = input(\"Select scenario (1, 2, or 3): \")\n",
    "        scenario_map = {\"1\": \"high\", \"2\": \"medium\", \"3\": \"low\"}\n",
    "        scenario = scenario_map.get(scenario_choice, \"medium\")\n",
    "\n",
    "        city = input(\"\\nEnter city name for test (default: Lahore): \").strip() or \"Lahore\"\n",
    "        print(f\"\\nRunning test scenario: {scenario.upper()} severity for {city}\")\n",
    "        run_weather_emergency_system_test(city, scenario)\n",
    "    else:\n",
    "        def scheduled_check():\n",
    "            \"\"\"Function to perform scheduled checks for multiple cities\"\"\"\n",
    "            cities = ['Lahore']  # Add more cities as needed\n",
    "            print(f\"\\nStarting scheduled check at {datetime.now().strftime('%Y-%m-%d %H:%M:%S')}\")\n",
    "\n",
    "            for city in cities:\n",
    "                try:\n",
    "                    print(f\"\\nChecking weather conditions for {city}...\")\n",
    "                    run_weather_emergency_system(city)\n",
    "                    time.sleep(2)  # Brief pause between cities\n",
    "                except Exception as e:\n",
    "                    print(f\"Error checking {city}: {str(e)}\")\n",
    "\n",
    "        # Schedule checks every minut\n",
    "        schedule.every(1).minute.do(scheduled_check)\n",
    "        print(\"Weather Emergency Response System started.\")\n",
    "        print(\"Monitoring scheduled for every minute.\")\n",
    "\n",
    "        while True:\n",
    "            try:\n",
    "                schedule.run_pending()\n",
    "                time.sleep(1)\n",
    "            except KeyboardInterrupt:\n",
    "                print(\"\\nShutting down Weather Emergency Response System...\")\n",
    "                break\n",
    "            except Exception as e:\n",
    "                print(f\"Error in main loop: {str(e)}\")\n",
    "                time.sleep(1)\n",
    "\n",
    "if __name__ == \"__main__\":\n",
    "    main()"
   ]
  },
  {
   "cell_type": "code",
   "execution_count": null,
   "metadata": {},
   "outputs": [],
   "source": []
  }
 ],
 "metadata": {
  "colab": {
   "provenance": []
  },
  "kernelspec": {
   "display_name": "Python 3 (ipykernel)",
   "language": "python",
   "name": "python3"
  },
  "language_info": {
   "codemirror_mode": {
    "name": "ipython",
    "version": 3
   },
   "file_extension": ".py",
   "mimetype": "text/x-python",
   "name": "python",
   "nbconvert_exporter": "python",
   "pygments_lexer": "ipython3",
   "version": "3.11.5"
  }
 },
 "nbformat": 4,
 "nbformat_minor": 4
}
